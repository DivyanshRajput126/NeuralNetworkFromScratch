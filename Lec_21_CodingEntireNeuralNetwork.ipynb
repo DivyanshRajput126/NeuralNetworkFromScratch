{
 "cells": [
  {
   "cell_type": "code",
   "execution_count": 15,
   "metadata": {},
   "outputs": [],
   "source": [
    "import numpy as np\n",
    "import nnfs\n",
    "from nnfs.datasets import spiral_data\n",
    "import matplotlib.pyplot as plt"
   ]
  },
  {
   "cell_type": "markdown",
   "metadata": {},
   "source": [
    "# Dense Layer"
   ]
  },
  {
   "cell_type": "code",
   "execution_count": 16,
   "metadata": {},
   "outputs": [],
   "source": [
    "# creating Dense Layer class  with backpropogation\n",
    "class Dense:\n",
    "    # layer initialization\n",
    "    def __init__(self,n_inputs,n_neurons):\n",
    "        super().__init__()\n",
    "        self.weights =  0.01*np.random.randn(n_inputs,n_neurons)\n",
    "        self.biases = np.zeros((1,n_neurons))\n",
    "    \n",
    "    # forward pass of Dense Layer\n",
    "    def forward(self,inputs):\n",
    "        # remember input values\n",
    "        self.inputs = inputs\n",
    "        # calculate output values from weights and inputs,weights,biases\n",
    "        self.outputs = np.dot(inputs,self.weights) + self.biases\n",
    "    \n",
    "    # backward method or backpropogation \n",
    "    def backward(self,dvalues):\n",
    "        # gradients on parameters\n",
    "        # loss with respect to weights\n",
    "        self.dweights = np.dot(self.inputs.T,dvalues)\n",
    "        # loss with respect to biases\n",
    "        self.dbiases = np.sum(dvalues,axis=0,keepdims=True)\n",
    "        # loss with respect to the inputs\n",
    "        self.dinputs = np.dot(dvalues,self.weights.T)"
   ]
  },
  {
   "cell_type": "markdown",
   "metadata": {},
   "source": [
    "# ReLU Class"
   ]
  },
  {
   "cell_type": "code",
   "execution_count": 17,
   "metadata": {},
   "outputs": [],
   "source": [
    "# creating relu class with backpropogation\n",
    "class ReLU:\n",
    "    # forward pass\n",
    "    def forward(self,inputs):\n",
    "        # remember input values\n",
    "        self.inputs = inputs\n",
    "        self.output = np.maximum(0,inputs)\n",
    "    \n",
    "    # backward method in relu activation function\n",
    "    def backward(self,dvalues):\n",
    "        # since we need to modify original variable,\n",
    "        # lets make a copy of value event first\n",
    "        self.dinputs = dvalues.copy()\n",
    "        # Zero gradient where input values are negative\n",
    "        self.dinputs[self.inputs <= 0] = 0"
   ]
  },
  {
   "cell_type": "markdown",
   "metadata": {},
   "source": [
    "# SoftMax Layer"
   ]
  },
  {
   "cell_type": "code",
   "execution_count": 18,
   "metadata": {},
   "outputs": [],
   "source": [
    "# creating softmax class\n",
    "class Softmax:\n",
    "    def forward(self,inputs):\n",
    "        exp_values = np.exp(inputs - np.max(inputs,axis=1,keepdims=True))\n",
    "        probabelities = exp_values/ np.sum(exp_values,axis=1,keepdims=True)\n",
    "        self.output = probabelities"
   ]
  },
  {
   "cell_type": "markdown",
   "metadata": {},
   "source": [
    "# CategoricalCrossEntropyLoss and Loss Class"
   ]
  },
  {
   "cell_type": "code",
   "execution_count": 19,
   "metadata": {},
   "outputs": [],
   "source": [
    "class Loss:\n",
    "    def calculate(self,output,y):\n",
    "        sample_losses = self.forward(output,y)\n",
    "        data_loss = np.mean(sample_losses)\n",
    "        return data_loss"
   ]
  },
  {
   "cell_type": "code",
   "execution_count": 20,
   "metadata": {},
   "outputs": [],
   "source": [
    "class CrossEntropyLoss(Loss):\n",
    "    def forward(self,y_pred,y_true):\n",
    "        # storing y_pred and y_true\n",
    "        self.y_true = y_true\n",
    "        self.y_pred = y_pred\n",
    "        # number of samples in a batch\n",
    "        samples = len(y_pred)\n",
    "        # clip data to prevent division by 0\n",
    "        # clip both sides to not drag mean towards any value\n",
    "        y_pred_clipped = np.clip(y_pred,1e-7,1-1e-7)\n",
    "        # probabelities for target values\n",
    "        # only if categorical labels\n",
    "        if len(y_true.shape) == 1:\n",
    "            correct_confidences = y_pred_clipped[\n",
    "            range(samples),\n",
    "            y_true]\n",
    "        elif len(y_true.shape) == 2:\n",
    "            correct_confidences = np.sum(\n",
    "                y_pred_clipped*y_true,axis=1\n",
    "            )\n",
    "        negative_log_likelihoods = -np.log(correct_confidences)\n",
    "        return negative_log_likelihoods\n",
    "    \n",
    "    # backward pass or backpropogation\n",
    "    def backward(self,dvalues,y_true):\n",
    "        # number of samples\n",
    "        samples = len(dvalues)\n",
    "        # number of labels in every sample\n",
    "        # we will use the first sample to count them\n",
    "        labels = len(dvalues[0])\n",
    "        # if labels are sparse turn them into one hot vector\n",
    "        if len(y_true.shape) == 1:\n",
    "            y_true = np.eye(labels)[y_true]\n",
    "        # calculate gradient\n",
    "        self.dinputs = -y_true / dvalues\n",
    "        # normalize gradient\n",
    "        self.dinputs = self.dinputs/samples"
   ]
  },
  {
   "cell_type": "markdown",
   "metadata": {},
   "source": [
    "# Softmax and CategoricalCross Entropy Class"
   ]
  },
  {
   "cell_type": "code",
   "execution_count": 21,
   "metadata": {},
   "outputs": [],
   "source": [
    "# classifier - Softmax Classifier\n",
    "# Loss Function - Categorical Cross Entropy Loss Function\n",
    "class Activation_Softmax_Loss_CategoricalCrossEntropy:\n",
    "    # initializing class or class constructor\n",
    "    def __init__(self):\n",
    "        # setting activation function to softmax\n",
    "        self.activation = Softmax()\n",
    "        # setting loss function to categorical cross entropy\n",
    "        self.loss = CrossEntropyLoss()\n",
    "    \n",
    "    # forward method of class\n",
    "    def forward(self,inputs,y_true):\n",
    "        # applying activation function to inputs\n",
    "        self.activation.forward(inputs)\n",
    "        # getting the output valus of softmax function to get input for loss function\n",
    "        self.output = self.activation.output\n",
    "        # applying loss function to inputs and y_true\n",
    "        return self.loss.calculate(self.output,y_true)\n",
    "    \n",
    "    # backward pss\n",
    "    def backward(self, d_values,y_true):\n",
    "        # number of samples \n",
    "        samples = len(d_values)\n",
    "        # if tables are one-hot encoded,\n",
    "        # turn them into discrete values\n",
    "        if len(y_true.shape) == 2:\n",
    "            y_true = np.argmax(y_true,axis=1)\n",
    "        # copying values of dvalues into input\n",
    "        self.dinputs = d_values.copy()\n",
    "        # calculate gradient\n",
    "        self.dinputs[range(samples),y_true] -= 1\n",
    "        # normalize gradient\n",
    "        self.dinputs = self.dinputs/samples"
   ]
  },
  {
   "cell_type": "markdown",
   "metadata": {},
   "source": [
    "# Generating Dataset"
   ]
  },
  {
   "cell_type": "code",
   "execution_count": 22,
   "metadata": {},
   "outputs": [],
   "source": [
    "# create dataset\n",
    "X,y = spiral_data(samples=100,classes=3)"
   ]
  },
  {
   "cell_type": "markdown",
   "metadata": {},
   "source": [
    "# Forward Pass"
   ]
  },
  {
   "cell_type": "code",
   "execution_count": 23,
   "metadata": {},
   "outputs": [],
   "source": [
    "# create dense layer with 2 inputs and 3 layers\n",
    "dense_1 = Dense(2,3)\n",
    "# create activation ReLU(to be used with dense layer)\n",
    "relu = ReLU()\n",
    "# create second dense layer with 3 input feature (as we take output of previous layer here ) and 3  output values(output values)\n",
    "dense_2 = Dense(3,3)\n",
    "# create softmax classifier's combined loss and activation\n",
    "loss_activation = Activation_Softmax_Loss_CategoricalCrossEntropy()\n",
    "\n",
    "# perform a forward pass of our training data through this layer\n",
    "dense_1.forward(X)\n",
    "# perform a activation function\n",
    "# take this output of first dense layer here\n",
    "relu.forward(dense_1.outputs)\n",
    "# perform a forward pass through second dense layer\n",
    "dense_2.forward(relu.output)\n",
    "# petform a forward pass through loss_activation layer\n",
    "loss = loss_activation.forward(dense_2.outputs,y)"
   ]
  },
  {
   "cell_type": "code",
   "execution_count": 24,
   "metadata": {},
   "outputs": [
    {
     "name": "stdout",
     "output_type": "stream",
     "text": [
      "[[0.33333333 0.33333333 0.33333333]\n",
      " [0.33333342 0.33333347 0.33333311]\n",
      " [0.33333351 0.33333361 0.33333288]\n",
      " [0.3333336  0.33333376 0.33333265]\n",
      " [0.33333372 0.33333352 0.33333276]]\n",
      "Loss:  1.0986116893754867\n"
     ]
    }
   ],
   "source": [
    "# lets see output of the first few samples\n",
    "print(loss_activation.output[:5])\n",
    "# print loss valus\n",
    "print('Loss: ',loss)"
   ]
  },
  {
   "cell_type": "code",
   "execution_count": 25,
   "metadata": {},
   "outputs": [
    {
     "name": "stdout",
     "output_type": "stream",
     "text": [
      "Accuracy: 0.27666666666666667\n"
     ]
    }
   ],
   "source": [
    "# calculate accuracy from output of loss_activation and targets\n",
    "# calculate values along first axis\n",
    "predictions = np.argmax(loss_activation.output,axis=1)\n",
    "if len(y.shape) == 2:\n",
    "    y = np.argmax(y,axis=1)\n",
    "accuracy = np.mean(predictions == y)\n",
    "# print accuracy\n",
    "print(f\"Accuracy: {accuracy}\")"
   ]
  },
  {
   "cell_type": "markdown",
   "metadata": {},
   "source": [
    "# Backward Pass"
   ]
  },
  {
   "cell_type": "code",
   "execution_count": 26,
   "metadata": {},
   "outputs": [],
   "source": [
    "loss_activation.backward(loss_activation.output,y)\n",
    "dense_2.backward(loss_activation.dinputs)\n",
    "relu.backward(dense_2.dinputs)\n",
    "dense_1.backward(relu.dinputs)"
   ]
  },
  {
   "cell_type": "code",
   "execution_count": 27,
   "metadata": {},
   "outputs": [
    {
     "name": "stdout",
     "output_type": "stream",
     "text": [
      "Dweights - 1: [[-1.34979178e-05 -5.68233055e-05 -1.09172517e-04]\n",
      " [-1.19384749e-04 -7.02433129e-05  2.16113387e-04]]\n",
      "DBiases -1: [[-4.11988091e-04 -5.41601404e-05  6.58477145e-04]]\n",
      "DWeights - 2: [[ 7.67654087e-05 -2.68928067e-04  1.92162658e-04]\n",
      " [-7.69842139e-05 -1.38042323e-05  9.07884462e-05]\n",
      " [ 8.36841060e-05 -1.70436887e-04  8.67527812e-05]]\n",
      "Dbiases -2: [[ 1.77704472e-06  1.15997915e-06 -2.93702387e-06]]\n"
     ]
    }
   ],
   "source": [
    "# print gradients\n",
    "print(f\"Dweights - 1: {dense_1.dweights}\")\n",
    "print(f\"DBiases -1: {dense_1.dbiases}\")\n",
    "print(f\"DWeights - 2: {dense_2.dweights}\")\n",
    "print(f\"Dbiases -2: {dense_2.dbiases}\")"
   ]
  },
  {
   "cell_type": "code",
   "execution_count": null,
   "metadata": {},
   "outputs": [],
   "source": []
  }
 ],
 "metadata": {
  "kernelspec": {
   "display_name": "Python 3",
   "language": "python",
   "name": "python3"
  },
  "language_info": {
   "codemirror_mode": {
    "name": "ipython",
    "version": 3
   },
   "file_extension": ".py",
   "mimetype": "text/x-python",
   "name": "python",
   "nbconvert_exporter": "python",
   "pygments_lexer": "ipython3",
   "version": "3.12.8"
  }
 },
 "nbformat": 4,
 "nbformat_minor": 2
}
