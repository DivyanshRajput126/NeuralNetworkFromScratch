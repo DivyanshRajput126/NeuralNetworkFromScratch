{
 "cells": [
  {
   "cell_type": "markdown",
   "metadata": {},
   "source": [
    "# Chaining Entire Backprpogation Pipeline"
   ]
  },
  {
   "cell_type": "code",
   "execution_count": 1,
   "metadata": {},
   "outputs": [],
   "source": [
    "# importing libraries\n",
    "import numpy as np\n",
    "import nnfs\n",
    "from nnfs.datasets import spiral_data\n",
    "import matplotlib.pyplot as plt"
   ]
  },
  {
   "cell_type": "markdown",
   "metadata": {},
   "source": [
    "# Dense Layer"
   ]
  },
  {
   "cell_type": "code",
   "execution_count": 2,
   "metadata": {},
   "outputs": [],
   "source": [
    "# creating Dense Layer class  with backpropogation\n",
    "class Dense:\n",
    "    # layer initialization\n",
    "    def __init__(self,n_inputs,n_neurons):\n",
    "        # super().__init__()\n",
    "        self.weights =  0.01*np.random.randn(n_inputs,n_neurons)\n",
    "        self.biases = np.zeros((1,n_neurons))\n",
    "    \n",
    "    # forward pass of Dense Layer\n",
    "    def forward(self,inputs):\n",
    "        # calculate output values from weights and inputs,weights,biases\n",
    "        self.inputs = inputs\n",
    "        self.outputs = np.dot(inputs,self.weights) + self.biases\n",
    "    \n",
    "    # backward method or backpropogation \n",
    "    def backward(self,dvalues):\n",
    "        # gradients on parameters\n",
    "        # loss with respect to weights\n",
    "        self.dweights = np.dot(self.inputs.T,dvalues)\n",
    "        # loss with respect to biases\n",
    "        self.dbiases = np.sum(dvalues,axis=0,keepdims=True)\n",
    "        # loss with respect to the inputs\n",
    "        self.dinputs = np.dot(dvalues,self.weights.T)\n",
    "        "
   ]
  },
  {
   "cell_type": "markdown",
   "metadata": {},
   "source": [
    "# ReLU Layer"
   ]
  },
  {
   "cell_type": "code",
   "execution_count": 3,
   "metadata": {},
   "outputs": [],
   "source": [
    "# creating relu class with backpropogation\n",
    "class ReLU:\n",
    "    # forward pass\n",
    "    def forward(self,inputs):\n",
    "        # remember input values\n",
    "        self.inputs = inputs\n",
    "        self.output = np.maximum(0,inputs)\n",
    "    \n",
    "    # backward method in relu activation function\n",
    "    def backward(self,dvalues):\n",
    "        # since we need to modify original variable,\n",
    "        # lets make a copy of value event first\n",
    "        self.dinputs = dvalues.copy()\n",
    "        # Zero gradient where input values are negative\n",
    "        self.dinputs[self.inputs <= 0] = 0"
   ]
  },
  {
   "cell_type": "markdown",
   "metadata": {},
   "source": [
    "# Softmax Layer"
   ]
  },
  {
   "cell_type": "code",
   "execution_count": 4,
   "metadata": {},
   "outputs": [],
   "source": [
    "# creating softmax class\n",
    "class Softmax:\n",
    "    def forward(self,inputs):\n",
    "        exp_values = np.exp(inputs - np.max(inputs,axis=1,keepdims=True))\n",
    "        probabelities = exp_values/ np.sum(exp_values,axis=1,keepdims=True)\n",
    "        self.output = probabelities"
   ]
  },
  {
   "cell_type": "markdown",
   "metadata": {},
   "source": [
    "# Loss Layer and CategoricalCrossEntropyLoss Layer"
   ]
  },
  {
   "cell_type": "code",
   "execution_count": 5,
   "metadata": {},
   "outputs": [],
   "source": [
    "class Loss:\n",
    "    def calculate(self,output,y):\n",
    "        sample_losses = self.forward(output,y)\n",
    "        data_loss = np.mean(sample_losses)\n",
    "        return data_loss"
   ]
  },
  {
   "cell_type": "code",
   "execution_count": 6,
   "metadata": {},
   "outputs": [],
   "source": [
    "class CrossEntropyLoss(Loss):\n",
    "    def forward(self,y_pred,y_true):\n",
    "        # storing y_pred and y_true\n",
    "        self.y_true = y_true\n",
    "        self.y_pred = y_pred\n",
    "        # number of samples in a batch\n",
    "        samples = len(y_pred)\n",
    "        # clip data to prevent division by 0\n",
    "        # clip both sides to not drag mean towards any value\n",
    "        y_pred_clipped = np.clip(y_pred,1e-7,1-1e-7)\n",
    "        # probabelities for target values\n",
    "        # only if categorical labels\n",
    "        if len(y_true.shape) == 1:\n",
    "            correct_confidences = y_pred_clipped[\n",
    "            range(samples),\n",
    "            y_true]\n",
    "        elif len(y_true.shape) == 2:\n",
    "            correct_confidences = np.sum(\n",
    "                y_pred_clipped*y_true,axis=1\n",
    "            )\n",
    "        negative_log_likelihoods = -np.log(correct_confidences)\n",
    "        return negative_log_likelihoods\n",
    "    \n",
    "    # backward pass or backpropogation\n",
    "    def backward(self,dvalues,y_true):\n",
    "        # number of samples\n",
    "        samples = len(dvalues)\n",
    "        # number of labels in every sample\n",
    "        # we will use the first sample to count them\n",
    "        labels = len(dvalues[0])\n",
    "        # if labels are sparse turn them into one hot vector\n",
    "        if len(y_true.shape) == 1:\n",
    "            y_true = np.eye(labels)[y_true]\n",
    "        # calculate gradient\n",
    "        self.dinputs = -y_true / dvalues\n",
    "        # normalize gradient\n",
    "        self.dinputs = self.dinputs/samples"
   ]
  },
  {
   "cell_type": "markdown",
   "metadata": {},
   "source": [
    "# Backpropogation on Softmax and CategoricalCrossEntropyLoss"
   ]
  },
  {
   "cell_type": "code",
   "execution_count": 7,
   "metadata": {},
   "outputs": [],
   "source": [
    "# classifier - Softmax Classifier\n",
    "# Loss Function - Categorical Cross Entropy Loss Function\n",
    "class Activation_Softmax_Loss_CategoricalCrossEntropy:\n",
    "    # initializing class or class constructor\n",
    "    def __init__(self):\n",
    "        # setting activation function to softmax\n",
    "        self.activation = Softmax()\n",
    "        # setting loss function to categorical cross entropy\n",
    "        self.loss = CrossEntropyLoss()\n",
    "    \n",
    "    # forward method of class\n",
    "    def forward(self,inputs,y_true):\n",
    "        # applying activation function to inputs\n",
    "        self.activation.forward(inputs)\n",
    "        # getting the output valus of softmax function to get input for loss function\n",
    "        self.output = self.activation.output\n",
    "        # applying loss function to inputs and y_true\n",
    "        self.loss.calculate(self.output,y_true)\n",
    "    \n",
    "    # backward pss\n",
    "    def backward(self, d_values,y_true):\n",
    "        # number of samples \n",
    "        samples = len(d_values)\n",
    "        # if tables are one-hot encoded,\n",
    "        # turn them into discrete values\n",
    "        if len(y_true.shape) == 2:\n",
    "            y_true = np.argmax(y_true,axis=1)\n",
    "        # copying values of dvalues into input\n",
    "        self.dinputs = d_values.copy()\n",
    "        # calculate gradient\n",
    "        self.dinputs[range(samples),y_true] -= 1\n",
    "        # normalize gradient\n",
    "        self.dinputs = self.dinputs/samples"
   ]
  },
  {
   "cell_type": "code",
   "execution_count": null,
   "metadata": {},
   "outputs": [],
   "source": []
  }
 ],
 "metadata": {
  "kernelspec": {
   "display_name": "Python 3",
   "language": "python",
   "name": "python3"
  },
  "language_info": {
   "codemirror_mode": {
    "name": "ipython",
    "version": 3
   },
   "file_extension": ".py",
   "mimetype": "text/x-python",
   "name": "python",
   "nbconvert_exporter": "python",
   "pygments_lexer": "ipython3",
   "version": "3.12.8"
  }
 },
 "nbformat": 4,
 "nbformat_minor": 2
}
